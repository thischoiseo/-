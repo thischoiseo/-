{
  "nbformat": 4,
  "nbformat_minor": 0,
  "metadata": {
    "colab": {
      "private_outputs": true,
      "provenance": []
    },
    "kernelspec": {
      "name": "python3",
      "display_name": "Python 3"
    },
    "language_info": {
      "name": "python"
    }
  },
  "cells": [
    {
      "cell_type": "code",
      "source": [
        "from google.colab import drive\n",
        "drive.mount('/content/drive')"
      ],
      "metadata": {
        "id": "X4pGQd7Br27d"
      },
      "execution_count": null,
      "outputs": []
    },
    {
      "cell_type": "code",
      "source": [
        "import pandas as pd\n",
        "import statsmodels.stats.api as sms\n",
        "from scipy.stats import shapiro, levene, mannwhitneyu"
      ],
      "metadata": {
        "id": "oLwdagCur4H2"
      },
      "execution_count": null,
      "outputs": []
    },
    {
      "cell_type": "code",
      "source": [
        "#### Load dataset\n",
        "data = pd.read_csv('/content/drive/MyDrive/ab_data.csv')\n",
        "data.head()"
      ],
      "metadata": {
        "id": "SJM1edNUsAQ7"
      },
      "execution_count": null,
      "outputs": []
    },
    {
      "cell_type": "code",
      "source": [
        "#### Check format\n",
        "data.info()"
      ],
      "metadata": {
        "id": "FJR1WhU4sFjk"
      },
      "execution_count": null,
      "outputs": []
    },
    {
      "cell_type": "code",
      "source": [
        "#### Check values\n",
        "for x in data.columns:\n",
        "    print(x)\n",
        "    print(data[x].values)"
      ],
      "metadata": {
        "id": "a62-HHnBsHQe"
      },
      "execution_count": null,
      "outputs": []
    },
    {
      "cell_type": "code",
      "source": [
        "#### Check unique values\n",
        "data.apply(lambda x: x.nunique())"
      ],
      "metadata": {
        "id": "ZeXab0idsItj"
      },
      "execution_count": null,
      "outputs": []
    },
    {
      "cell_type": "code",
      "source": [
        "#### Check null\n",
        "data.isnull().sum()"
      ],
      "metadata": {
        "id": "v6tmwC26sKNP"
      },
      "execution_count": null,
      "outputs": []
    },
    {
      "cell_type": "code",
      "source": [
        "#### Remove duplicates\n",
        "print(data.shape)\n",
        "df = data.drop_duplicates(subset= 'user_id', keep= False)\n",
        "print(df.shape)"
      ],
      "metadata": {
        "id": "6m-3YbLZsSFd"
      },
      "execution_count": null,
      "outputs": []
    },
    {
      "cell_type": "code",
      "source": [
        "df[['group', 'landing_page']].value_counts()"
      ],
      "metadata": {
        "id": "_PeD6ts1sTNi"
      },
      "execution_count": null,
      "outputs": []
    },
    {
      "cell_type": "code",
      "source": [
        "#### Check Mismatch - group & landing page\n",
        "df_mismatch = df[(df[\"group\"]==\"treatment\")&(df[\"landing_page\"]==\"old_page\")\n",
        "                |(df[\"group\"]==\"control\")&(df[\"landing_page\"]==\"new_page\")]\n",
        "n_mismatch = df_mismatch.shape[0]\n",
        "print(f\"The number of mismatched rows:{n_mismatch} rows\" )\n",
        "print(\"Percent of mismatched rows:%.2f%%\" % (n_mismatch/df.shape[0]*100))"
      ],
      "metadata": {
        "id": "Bfjq5NzNsUTU"
      },
      "execution_count": null,
      "outputs": []
    },
    {
      "cell_type": "code",
      "source": [
        "import pandas as pd\n",
        "\n",
        "# Function to convert MM:SS.S to total seconds\n",
        "def convert_to_seconds(timestamp):\n",
        "    if pd.isnull(timestamp):  # Handle missing values\n",
        "        return None\n",
        "    minutes, seconds = map(float, timestamp.split(':'))\n",
        "    return minutes * 60 + seconds\n",
        "\n",
        "df['total_seconds'] = df['timestamp'].apply(convert_to_seconds)\n",
        "\n",
        "print(df)"
      ],
      "metadata": {
        "id": "6FSxfIngsVdk"
      },
      "execution_count": null,
      "outputs": []
    },
    {
      "cell_type": "code",
      "source": [
        "# Missing value\n",
        "df['total_seconds'] = df['total_seconds'].fillna(0)\n"
      ],
      "metadata": {
        "id": "OsW7vsEmsWvD"
      },
      "execution_count": null,
      "outputs": []
    },
    {
      "cell_type": "code",
      "source": [
        "df.columns"
      ],
      "metadata": {
        "id": "bRFVYDkwsX_L"
      },
      "execution_count": null,
      "outputs": []
    },
    {
      "cell_type": "code",
      "source": [
        "df.describe()"
      ],
      "metadata": {
        "id": "B4ukR0cHsY_I"
      },
      "execution_count": null,
      "outputs": []
    },
    {
      "cell_type": "code",
      "source": [
        "import pandas as pd\n",
        "import matplotlib.pyplot as plt\n",
        "\n",
        "# Plot the distribution of total seconds\n",
        "plt.figure(figsize=(8, 6))\n",
        "plt.hist(df['total_seconds'], bins=30, alpha=0.7, edgecolor='black')\n",
        "plt.title('Distribution of Total Seconds')\n",
        "plt.xlabel('Total Seconds')\n",
        "plt.ylabel('Frequency')\n",
        "plt.ylim(bottom=0) #Change starting point\n",
        "plt.grid(axis='y', linestyle='--', alpha=0.7)\n",
        "plt.show()"
      ],
      "metadata": {
        "id": "xXdWyjq1saqW"
      },
      "execution_count": null,
      "outputs": []
    },
    {
      "cell_type": "code",
      "source": [
        "import pandas as pd\n",
        "group_counts = df['group'].value_counts()\n",
        "group_ratios = group_counts / group_counts.sum()\n",
        "print(group_ratios)"
      ],
      "metadata": {
        "id": "D2n9aMD8sclU"
      },
      "execution_count": null,
      "outputs": []
    },
    {
      "cell_type": "code",
      "source": [
        "df.groupby(['group','landing_page']).agg({'landing_page': lambda x: x.value_counts()})"
      ],
      "metadata": {
        "id": "7s19MR5-sd48"
      },
      "execution_count": null,
      "outputs": []
    },
    {
      "cell_type": "code",
      "source": [
        "import seaborn as sns\n",
        "\n",
        "page_conversion = df.groupby(['landing_page', 'group'])['converted'].mean().reset_index()\n",
        "\n",
        "# Plot\n",
        "\n",
        "sns.barplot(data=page_conversion, x='landing_page', y='converted', hue='group', palette='coolwarm')\n",
        "plt.title('Conversion Rate by Landing Page')\n",
        "plt.ylabel('Conversion Rate')\n",
        "plt.xlabel('Landing Page')\n",
        "plt.legend(title='Group')\n",
        "plt.show()"
      ],
      "metadata": {
        "id": "SUABa9FRsfmg"
      },
      "execution_count": null,
      "outputs": []
    },
    {
      "cell_type": "code",
      "source": [
        "df.groupby(['group','landing_page']).agg({'converted': 'mean'})"
      ],
      "metadata": {
        "id": "pWp-lnn2sg5a"
      },
      "execution_count": null,
      "outputs": []
    },
    {
      "cell_type": "code",
      "source": [
        "conversion_summary = df.groupby('group')['converted'].mean().reset_index()\n",
        "conversion_summary.columns = ['Group', 'Conversion Rate']\n",
        "\n",
        "print(conversion_summary)"
      ],
      "metadata": {
        "id": "xq8A29VqsiaO"
      },
      "execution_count": null,
      "outputs": []
    },
    {
      "cell_type": "code",
      "source": [
        "import seaborn as sns\n",
        "\n",
        "sns.barplot(data=conversion_summary, x='Group', y='Conversion Rate', palette='viridis')\n",
        "plt.title('Conversion Rate by Group')\n",
        "plt.ylabel('Conversion Rate')\n",
        "plt.xlabel('Group')\n",
        "plt.show()"
      ],
      "metadata": {
        "id": "rm1Wv0DKsjTY"
      },
      "execution_count": null,
      "outputs": []
    },
    {
      "cell_type": "code",
      "source": [
        "conversion_rates = df.groupby('group')['converted'].mean()\n",
        "print(conversion_rates)"
      ],
      "metadata": {
        "id": "15BoM0UIskhj"
      },
      "execution_count": null,
      "outputs": []
    },
    {
      "cell_type": "code",
      "source": [
        "time_metrics = df.groupby('group')['total_seconds'].mean()\n",
        "print(time_metrics)"
      ],
      "metadata": {
        "id": "GJrTNL9Xsl7Z"
      },
      "execution_count": null,
      "outputs": []
    },
    {
      "cell_type": "code",
      "source": [
        "from statsmodels.stats.proportion import proportions_ztest\n",
        "\n",
        "control = df[df['group'] == 'control']['converted']\n",
        "treatment = df[df['group'] == 'treatment']['converted']\n",
        "\n",
        "control_converted = control.sum()\n",
        "treatment_converted = treatment.sum()\n",
        "\n",
        "#Size of group\n",
        "n_control = len(control)\n",
        "n_treatment = len(treatment)\n",
        "\n",
        "stat, p_value = proportions_ztest([control_converted, treatment_converted],\n",
        "                                   [n_control, n_treatment])\n",
        "print(f\"Z-test Statistic: {stat}, p-value: {p_value:.6f}\")"
      ],
      "metadata": {
        "id": "eP_BkU1asnkR"
      },
      "execution_count": null,
      "outputs": []
    },
    {
      "cell_type": "code",
      "source": [
        "from scipy.stats import ttest_ind\n",
        "\n",
        "control_time = df[df['group'] == 'control']['total_seconds']\n",
        "treatment_time = df[df['group'] == 'treatment']['total_seconds']\n",
        "\n",
        "t_stat, p_value = ttest_ind(control_time, treatment_time)\n",
        "print(f\"T-test Statistic: {t_stat}, p-value: {p_value:.6f}\")"
      ],
      "metadata": {
        "id": "QEirxeOKspN7"
      },
      "execution_count": null,
      "outputs": []
    },
    {
      "cell_type": "code",
      "source": [],
      "metadata": {
        "id": "wKVDap2IsquW"
      },
      "execution_count": null,
      "outputs": []
    }
  ]
}