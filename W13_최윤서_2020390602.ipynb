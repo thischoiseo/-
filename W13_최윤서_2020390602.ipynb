{
  "nbformat": 4,
  "nbformat_minor": 0,
  "metadata": {
    "colab": {
      "private_outputs": true,
      "provenance": []
    },
    "kernelspec": {
      "name": "python3",
      "display_name": "Python 3"
    },
    "language_info": {
      "name": "python"
    }
  },
  "cells": [
    {
      "cell_type": "code",
      "source": [
        "from google.colab import drive\n",
        "drive.mount('/content/drive')"
      ],
      "metadata": {
        "id": "lS5zQNx6c777"
      },
      "execution_count": null,
      "outputs": []
    },
    {
      "cell_type": "code",
      "execution_count": null,
      "metadata": {
        "id": "rugtgLYeaGBo"
      },
      "outputs": [],
      "source": [
        "import pandas as pd\n",
        "import matplotlib.pyplot as plt\n",
        "import seaborn as sns\n",
        "\n",
        "# 데이터 불러오기\n",
        "data = pd.read_csv('/content/drive/MyDrive/online_retail_preprocessed.csv', encoding='unicode_escape')\n",
        "\n",
        "# 날짜 데이터 변환\n",
        "data['InvoiceDate'] = pd.to_datetime(data['InvoiceDate'])\n",
        "\n",
        "# InvoiceMonth 생성\n",
        "data['InvoiceMonth'] = data['InvoiceDate'].dt.to_period('M')\n",
        "\n",
        "# CohortMonth 계산\n",
        "data['CohortMonth'] = data.groupby('CustomerID')['InvoiceMonth'].transform('min')\n",
        "\n",
        "# Cohort Index 계산\n",
        "invoice_year = data['InvoiceMonth'].dt.year\n",
        "invoice_month = data['InvoiceMonth'].dt.month\n",
        "cohort_year = data['CohortMonth'].dt.year\n",
        "cohort_month = data['CohortMonth'].dt.month\n",
        "\n",
        "data['CohortIndex'] = (invoice_year - cohort_year) * 12 + (invoice_month - cohort_month) + 1\n",
        "\n",
        "# 코호트 데이터 집계\n",
        "cohort_data = data.groupby(['CohortMonth', 'CohortIndex']).agg({'CustomerID': 'nunique'}).reset_index()\n",
        "\n",
        "# 피벗 테이블 생성\n",
        "cohort_pivot = cohort_data.pivot(index='CohortMonth', columns='CohortIndex', values='CustomerID')\n",
        "\n",
        "# 유지율 계산\n",
        "cohort_size = cohort_pivot.iloc[:, 0]\n",
        "cohort_retention = cohort_pivot.divide(cohort_size, axis=0)\n",
        "\n",
        "# 히트맵 시각화 및 저장\n",
        "plt.figure(figsize=(12, 8))\n",
        "sns.heatmap(cohort_retention, annot=True, fmt='.0%', cmap='YlGnBu')\n",
        "plt.title('Cohort Analysis - Retention Rates', fontsize=16)\n",
        "plt.xlabel('Cohort Index (Months)', fontsize=12)\n",
        "plt.ylabel('Cohort Month', fontsize=12)\n",
        "plt.tight_layout()\n",
        "\n",
        "# 화면 저장\n",
        "plt.savefig('cohort_analysis_screenshot.png')\n",
        "plt.show()"
      ]
    },
    {
      "cell_type": "code",
      "source": [],
      "metadata": {
        "id": "sdetnKvncwx6"
      },
      "execution_count": null,
      "outputs": []
    }
  ]
}